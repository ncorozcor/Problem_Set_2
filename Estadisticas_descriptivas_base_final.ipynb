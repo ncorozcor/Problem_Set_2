{
 "cells": [
  {
   "cell_type": "markdown",
   "id": "87a25da8-422b-4f5f-b7b5-1fcedecaa956",
   "metadata": {
    "tags": []
   },
   "source": [
    "# Estadisticas descriptivas"
   ]
  },
  {
   "cell_type": "markdown",
   "id": "349a5931-2948-479b-95c7-6bb2f86b1e4a",
   "metadata": {
    "tags": []
   },
   "source": [
    "## importacion de las bases"
   ]
  },
  {
   "cell_type": "code",
   "execution_count": 4,
   "id": "f2052d75-68db-4f09-b4ac-8219f76fde9b",
   "metadata": {
    "tags": []
   },
   "outputs": [],
   "source": [
    "import pandas as pd\n",
    "import numpy as np\n",
    "import matplotlib.pyplot as plt"
   ]
  },
  {
   "cell_type": "code",
   "execution_count": 6,
   "id": "bedf6dd5-0cc3-4dbf-8c66-95c52fd61ba3",
   "metadata": {
    "tags": []
   },
   "outputs": [],
   "source": [
    "train = pd.read_csv(r'C:\\Users\\JORGE\\Documents\\R\\TRAIN (1).csv')\n",
    "test = pd.read_csv(r'C:\\Users\\JORGE\\Documents\\R\\testcompleto.csv')"
   ]
  },
  {
   "cell_type": "code",
   "execution_count": 7,
   "id": "a38222fd-527b-4bdd-a232-ade1ea92c2d9",
   "metadata": {
    "tags": []
   },
   "outputs": [],
   "source": [
    "n_observaciones_train = len(train)\n",
    "n_observaciones_test = len(test)"
   ]
  },
  {
   "cell_type": "code",
   "execution_count": 19,
   "id": "e53416e8-43d7-4d4e-801d-9360e55fde96",
   "metadata": {
    "tags": []
   },
   "outputs": [],
   "source": [
    "estadisticas = train.describe().drop(['Unnamed: 0','rooms','surface_covered','bathrooms'], axis=1)"
   ]
  },
  {
   "cell_type": "code",
   "execution_count": 20,
   "id": "0c23a371-803c-46e2-bd0c-dae35f6430e6",
   "metadata": {
    "tags": []
   },
   "outputs": [],
   "source": [
    "# se quita el conteo ya que no sirve de nada\n",
    "estadisticas = estadisticas.iloc[1:,:]"
   ]
  },
  {
   "cell_type": "code",
   "execution_count": 24,
   "id": "c0ca0615-ada6-4b48-9c8a-22ccb78126f6",
   "metadata": {
    "tags": []
   },
   "outputs": [],
   "source": [
    "# se van a dividir en dos por la cantidad de  las variables\n",
    "estadisticas1 = estadisticas.iloc[:,:6]\n",
    "estadisticas2 = estadisticas.iloc[:,6:]"
   ]
  },
  {
   "cell_type": "code",
   "execution_count": 57,
   "id": "f608cab2-40a1-414e-b84c-a192a422a97a",
   "metadata": {
    "tags": []
   },
   "outputs": [
    {
     "data": {
      "text/html": [
       "<div>\n",
       "<style scoped>\n",
       "    .dataframe tbody tr th:only-of-type {\n",
       "        vertical-align: middle;\n",
       "    }\n",
       "\n",
       "    .dataframe tbody tr th {\n",
       "        vertical-align: top;\n",
       "    }\n",
       "\n",
       "    .dataframe thead th {\n",
       "        text-align: right;\n",
       "    }\n",
       "</style>\n",
       "<table border=\"1\" class=\"dataframe\">\n",
       "  <thead>\n",
       "    <tr style=\"text-align: right;\">\n",
       "      <th></th>\n",
       "      <th>price</th>\n",
       "      <th>month</th>\n",
       "      <th>year</th>\n",
       "      <th>surface_total</th>\n",
       "      <th>bedrooms</th>\n",
       "      <th>numeros_baños</th>\n",
       "    </tr>\n",
       "  </thead>\n",
       "  <tbody>\n",
       "    <tr>\n",
       "      <th>mean</th>\n",
       "      <td>6.510875e+08</td>\n",
       "      <td>6.234063</td>\n",
       "      <td>2019.946538</td>\n",
       "      <td>776.185477</td>\n",
       "      <td>3.251263</td>\n",
       "      <td>2.883589</td>\n",
       "    </tr>\n",
       "    <tr>\n",
       "      <th>std</th>\n",
       "      <td>3.158729e+08</td>\n",
       "      <td>3.338264</td>\n",
       "      <td>0.840581</td>\n",
       "      <td>3322.203494</td>\n",
       "      <td>1.641692</td>\n",
       "      <td>1.074629</td>\n",
       "    </tr>\n",
       "    <tr>\n",
       "      <th>min</th>\n",
       "      <td>3.000000e+08</td>\n",
       "      <td>1.000000</td>\n",
       "      <td>2019.000000</td>\n",
       "      <td>36.000000</td>\n",
       "      <td>0.000000</td>\n",
       "      <td>1.000000</td>\n",
       "    </tr>\n",
       "    <tr>\n",
       "      <th>25%</th>\n",
       "      <td>4.100000e+08</td>\n",
       "      <td>3.000000</td>\n",
       "      <td>2019.000000</td>\n",
       "      <td>85.000000</td>\n",
       "      <td>2.000000</td>\n",
       "      <td>2.000000</td>\n",
       "    </tr>\n",
       "    <tr>\n",
       "      <th>50%</th>\n",
       "      <td>5.500000e+08</td>\n",
       "      <td>7.000000</td>\n",
       "      <td>2020.000000</td>\n",
       "      <td>120.000000</td>\n",
       "      <td>3.000000</td>\n",
       "      <td>3.000000</td>\n",
       "    </tr>\n",
       "    <tr>\n",
       "      <th>75%</th>\n",
       "      <td>8.000000e+08</td>\n",
       "      <td>9.000000</td>\n",
       "      <td>2021.000000</td>\n",
       "      <td>200.000000</td>\n",
       "      <td>3.000000</td>\n",
       "      <td>3.000000</td>\n",
       "    </tr>\n",
       "    <tr>\n",
       "      <th>max</th>\n",
       "      <td>1.650000e+09</td>\n",
       "      <td>12.000000</td>\n",
       "      <td>2021.000000</td>\n",
       "      <td>80000.000000</td>\n",
       "      <td>11.000000</td>\n",
       "      <td>9.000000</td>\n",
       "    </tr>\n",
       "  </tbody>\n",
       "</table>\n",
       "</div>"
      ],
      "text/plain": [
       "             price      month         year  surface_total   bedrooms  \\\n",
       "mean  6.510875e+08   6.234063  2019.946538     776.185477   3.251263   \n",
       "std   3.158729e+08   3.338264     0.840581    3322.203494   1.641692   \n",
       "min   3.000000e+08   1.000000  2019.000000      36.000000   0.000000   \n",
       "25%   4.100000e+08   3.000000  2019.000000      85.000000   2.000000   \n",
       "50%   5.500000e+08   7.000000  2020.000000     120.000000   3.000000   \n",
       "75%   8.000000e+08   9.000000  2021.000000     200.000000   3.000000   \n",
       "max   1.650000e+09  12.000000  2021.000000   80000.000000  11.000000   \n",
       "\n",
       "      numeros_baños  \n",
       "mean       2.883589  \n",
       "std        1.074629  \n",
       "min        1.000000  \n",
       "25%        2.000000  \n",
       "50%        3.000000  \n",
       "75%        3.000000  \n",
       "max        9.000000  "
      ]
     },
     "execution_count": 57,
     "metadata": {},
     "output_type": "execute_result"
    }
   ],
   "source": [
    "estadisticas1"
   ]
  },
  {
   "cell_type": "code",
   "execution_count": 34,
   "id": "ef124de4-80de-4a72-a3e1-576ac24cd2cf",
   "metadata": {
    "tags": []
   },
   "outputs": [
    {
     "data": {
      "text/html": [
       "<div>\n",
       "<style scoped>\n",
       "    .dataframe tbody tr th:only-of-type {\n",
       "        vertical-align: middle;\n",
       "    }\n",
       "\n",
       "    .dataframe tbody tr th {\n",
       "        vertical-align: top;\n",
       "    }\n",
       "\n",
       "    .dataframe thead th {\n",
       "        text-align: right;\n",
       "    }\n",
       "</style>\n",
       "<table border=\"1\" class=\"dataframe\">\n",
       "  <thead>\n",
       "    <tr style=\"text-align: right;\">\n",
       "      <th></th>\n",
       "      <th>price</th>\n",
       "      <th>month</th>\n",
       "      <th>year</th>\n",
       "      <th>surface_total</th>\n",
       "      <th>bedrooms</th>\n",
       "      <th>numeros_baños</th>\n",
       "    </tr>\n",
       "  </thead>\n",
       "  <tbody>\n",
       "    <tr>\n",
       "      <th>mean</th>\n",
       "      <td>6.510875e+08</td>\n",
       "      <td>6.234063</td>\n",
       "      <td>2019.946538</td>\n",
       "      <td>776.185477</td>\n",
       "      <td>3.251263</td>\n",
       "      <td>2.883589</td>\n",
       "    </tr>\n",
       "    <tr>\n",
       "      <th>std</th>\n",
       "      <td>3.158729e+08</td>\n",
       "      <td>3.338264</td>\n",
       "      <td>0.840581</td>\n",
       "      <td>3322.203494</td>\n",
       "      <td>1.641692</td>\n",
       "      <td>1.074629</td>\n",
       "    </tr>\n",
       "    <tr>\n",
       "      <th>min</th>\n",
       "      <td>3.000000e+08</td>\n",
       "      <td>1.000000</td>\n",
       "      <td>2019.000000</td>\n",
       "      <td>36.000000</td>\n",
       "      <td>0.000000</td>\n",
       "      <td>1.000000</td>\n",
       "    </tr>\n",
       "    <tr>\n",
       "      <th>25%</th>\n",
       "      <td>4.100000e+08</td>\n",
       "      <td>3.000000</td>\n",
       "      <td>2019.000000</td>\n",
       "      <td>85.000000</td>\n",
       "      <td>2.000000</td>\n",
       "      <td>2.000000</td>\n",
       "    </tr>\n",
       "    <tr>\n",
       "      <th>50%</th>\n",
       "      <td>5.500000e+08</td>\n",
       "      <td>7.000000</td>\n",
       "      <td>2020.000000</td>\n",
       "      <td>120.000000</td>\n",
       "      <td>3.000000</td>\n",
       "      <td>3.000000</td>\n",
       "    </tr>\n",
       "    <tr>\n",
       "      <th>75%</th>\n",
       "      <td>8.000000e+08</td>\n",
       "      <td>9.000000</td>\n",
       "      <td>2021.000000</td>\n",
       "      <td>200.000000</td>\n",
       "      <td>3.000000</td>\n",
       "      <td>3.000000</td>\n",
       "    </tr>\n",
       "    <tr>\n",
       "      <th>max</th>\n",
       "      <td>1.650000e+09</td>\n",
       "      <td>12.000000</td>\n",
       "      <td>2021.000000</td>\n",
       "      <td>80000.000000</td>\n",
       "      <td>11.000000</td>\n",
       "      <td>9.000000</td>\n",
       "    </tr>\n",
       "  </tbody>\n",
       "</table>\n",
       "</div>"
      ],
      "text/plain": [
       "             price      month         year  surface_total   bedrooms  \\\n",
       "mean  6.510875e+08   6.234063  2019.946538     776.185477   3.251263   \n",
       "std   3.158729e+08   3.338264     0.840581    3322.203494   1.641692   \n",
       "min   3.000000e+08   1.000000  2019.000000      36.000000   0.000000   \n",
       "25%   4.100000e+08   3.000000  2019.000000      85.000000   2.000000   \n",
       "50%   5.500000e+08   7.000000  2020.000000     120.000000   3.000000   \n",
       "75%   8.000000e+08   9.000000  2021.000000     200.000000   3.000000   \n",
       "max   1.650000e+09  12.000000  2021.000000   80000.000000  11.000000   \n",
       "\n",
       "      numeros_baños  \n",
       "mean       2.883589  \n",
       "std        1.074629  \n",
       "min        1.000000  \n",
       "25%        2.000000  \n",
       "50%        3.000000  \n",
       "75%        3.000000  \n",
       "max        9.000000  "
      ]
     },
     "execution_count": 34,
     "metadata": {},
     "output_type": "execute_result"
    }
   ],
   "source": [
    "estadisticas1\n"
   ]
  },
  {
   "cell_type": "code",
   "execution_count": 27,
   "id": "8c3061ec-6d38-407a-be1d-db3f16ada41b",
   "metadata": {
    "tags": []
   },
   "outputs": [],
   "source": [
    "# se exporta la tabla de estadisticas descriptivas a un formato excel para poder ponerlo en el documento\n",
    "estadisticas1.to_excel(r'C:\\Users\\JORGE\\Documents\\R\\estadisticas1.xlsx')\n",
    "estadisticas2.to_excel(r'C:\\Users\\JORGE\\Documents\\R\\estadisticas2.xlsx')"
   ]
  },
  {
   "cell_type": "markdown",
   "id": "f85aee12-707c-483c-bc0c-606301bf097a",
   "metadata": {
    "tags": []
   },
   "source": [
    "## Graficas"
   ]
  },
  {
   "cell_type": "code",
   "execution_count": 42,
   "id": "a717c4bf-d7b2-4d00-9a3c-6fb75d1364b8",
   "metadata": {
    "tags": []
   },
   "outputs": [
    {
     "data": {
      "image/png": "[encoded data removed]",
      "text/plain": [
       "<Figure size 640x480 with 6 Axes>"
      ]
     },
     "metadata": {},
     "output_type": "display_data"
    }
   ],
   "source": [
    "fig, axs = plt.subplots(2,3)\n",
    "fig.suptitle('Graficas variables train vs test')\n",
    "axs[0, 0].hist(train['price'])\n",
    "axs[0, 0].set_title('precio train')\n",
    "axs[0, 1].hist(train['estrato'])\n",
    "axs[0, 1].set_title('estrato train')\n",
    "axs[0, 2].hist(train['surface_total'])\n",
    "axs[0, 2].set_title('área train')\n",
    "axs[1, 0].hist(test['v_ref'])\n",
    "axs[1, 0].set_title('v_ref test')\n",
    "axs[1, 1].hist(test['estrato'])\n",
    "axs[1, 1].set_title('estrato test')\n",
    "axs[1, 2].hist(test['surface_total'])\n",
    "axs[1, 2].set_title('área test')\n",
    "fig.tight_layout()"
   ]
  },
  {
   "cell_type": "markdown",
   "id": "42a4301f-6bee-4db3-be22-1c70be0b34c1",
   "metadata": {
    "tags": []
   },
   "source": [
    "## Correlaciones"
   ]
  },
  {
   "cell_type": "code",
   "execution_count": 56,
   "id": "e9e5a9f6-2ecc-46ba-87e2-b9adc18b299b",
   "metadata": {
    "tags": []
   },
   "outputs": [
    {
     "name": "stderr",
     "output_type": "stream",
     "text": [
      "C:\\Users\\JORGE\\AppData\\Local\\Temp\\ipykernel_6576\\1277478395.py:2: FutureWarning: The default value of numeric_only in DataFrame.corr is deprecated. In a future version, it will default to False. Select only valid columns or specify the value of numeric_only to silence this warning.\n",
      "  correlaciones = train.corr().drop(['Unnamed: 0','rooms','surface_covered','bathrooms'], axis=1).iloc[:,0:2].sort_values('price', ascending=False)\n"
     ]
    }
   ],
   "source": [
    "# se deja mes para luego en excel solo usar el precio y poder hacer el analisis de correlaciones\n",
    "correlaciones = train.corr().drop(['Unnamed: 0','rooms','surface_covered','bathrooms'], axis=1).iloc[:,0:2].sort_values('price', ascending=False)\n",
    "# se exporta a excel\n",
    "correlaciones.to_excel(r'C:\\Users\\JORGE\\Documents\\R\\correlaciones.xlsx')"
   ]
  }
 ],
 "metadata": {
  "kernelspec": {
   "display_name": "Python 3 (ipykernel)",
   "language": "python",
   "name": "python3"
  },
  "language_info": {
   "codemirror_mode": {
    "name": "ipython",
    "version": 3
   },
   "file_extension": ".py",
   "mimetype": "text/x-python",
   "name": "python",
   "nbconvert_exporter": "python",
   "pygments_lexer": "ipython3",
   "version": "3.11.4"
  }
 },
 "nbformat": 4,
 "nbformat_minor": 5
}
